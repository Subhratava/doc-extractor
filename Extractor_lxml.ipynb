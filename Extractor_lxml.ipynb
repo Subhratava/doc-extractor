{
 "cells": [
  {
   "cell_type": "code",
   "execution_count": 8,
   "id": "64e65298-d003-44c9-8dc8-3068a61bb67e",
   "metadata": {},
   "outputs": [
    {
     "name": "stderr",
     "output_type": "stream",
     "text": [
      "C:\\Users\\MSI\\AppData\\Local\\Temp\\ipykernel_6920\\1194569754.py:17: DeprecationWarning: \"uni\" parameter is deprecated since v2.5.1, unused and will soon be removed\n",
      "  self.add_font(\"DejaVu\", \"\", \"DejaVuSans.ttf\", uni=True)\n",
      "C:\\Users\\MSI\\AppData\\Local\\Temp\\ipykernel_6920\\1194569754.py:18: DeprecationWarning: \"uni\" parameter is deprecated since v2.5.1, unused and will soon be removed\n",
      "  self.add_font(\"DejaVu\", \"B\", \"DejaVuSans-Bold.ttf\", uni=True)\n",
      "C:\\Users\\MSI\\AppData\\Local\\Temp\\ipykernel_6920\\1194569754.py:27: DeprecationWarning: The parameter \"txt\" has been renamed to \"text\" in 2.7.6\n",
      "  pdf.cell(200, 10, txt=title, ln=True, align='C')\n",
      "C:\\Users\\MSI\\AppData\\Local\\Temp\\ipykernel_6920\\1194569754.py:27: DeprecationWarning: The parameter \"ln\" is deprecated since v2.5.2. Instead of ln=True use new_x=XPos.LMARGIN, new_y=YPos.NEXT.\n",
      "  pdf.cell(200, 10, txt=title, ln=True, align='C')\n"
     ]
    },
    {
     "name": "stdout",
     "output_type": "stream",
     "text": [
      "✅ PDFs created successfully.\n"
     ]
    }
   ],
   "source": [
    "from zipfile import ZipFile\n",
    "from lxml import etree\n",
    "from fpdf import FPDF\n",
    "import re\n",
    "import os\n",
    "\n",
    "OUTPUT_DIR = \"output_lxml\"\n",
    "os.makedirs(OUTPUT_DIR, exist_ok=True)\n",
    "\n",
    "# Namespace for Word XML\n",
    "NAMESPACE = {'w': 'http://schemas.openxmlformats.org/wordprocessingml/2006/main'}\n",
    "\n",
    "# Class to handle Unicode PDF creation\n",
    "class UnicodePDF(FPDF):\n",
    "    def __init__(self):\n",
    "        super().__init__()\n",
    "        self.add_font(\"DejaVu\", \"\", \"DejaVuSans.ttf\", uni=True)\n",
    "        self.add_font(\"DejaVu\", \"B\", \"DejaVuSans-Bold.ttf\", uni=True)\n",
    "        self.set_font(\"DejaVu\", size=12)\n",
    "\n",
    "# PDF creation function\n",
    "def create_pdf(title, content, filename):\n",
    "    pdf = UnicodePDF()\n",
    "    pdf.add_page()\n",
    "\n",
    "    pdf.set_font(\"DejaVu\", style='B', size=16)\n",
    "    pdf.cell(200, 10, txt=title, ln=True, align='C')\n",
    "    pdf.ln(10)\n",
    "\n",
    "    pdf.set_font(\"DejaVu\", size=12)\n",
    "    pdf.multi_cell(0, 10, content)\n",
    "    \n",
    "    pdf.output(filename)\n",
    "\n",
    "# Sanitize filename (remove illegal characters)\n",
    "def sanitize_filename(name):\n",
    "    return re.sub(r'[\\\\/*?:\"<>|]', \"_\", name.strip())\n",
    "\n",
    "# Extract and split text from .docx file\n",
    "def extract_text_from_docx(docx_file):\n",
    "    with ZipFile(docx_file) as docx:\n",
    "        xml_content = docx.read('word/document.xml')\n",
    "\n",
    "    tree = etree.XML(xml_content)\n",
    "    paragraphs = tree.xpath('//w:p', namespaces=NAMESPACE)\n",
    "\n",
    "    current_title = None\n",
    "    content = \"\"\n",
    "\n",
    "    for para in paragraphs:\n",
    "        style_elem = para.xpath('./w:pPr/w:pStyle/@w:val', namespaces=NAMESPACE)\n",
    "        text_nodes = para.xpath('.//w:t', namespaces=NAMESPACE)\n",
    "        text = ''.join(t for t in [node.text for node in text_nodes] if t)\n",
    "\n",
    "        if not text.strip():\n",
    "            continue\n",
    "\n",
    "        if style_elem:\n",
    "            style = style_elem[0]\n",
    "            if style in ['Heading1']:  # Treat both as new sections\n",
    "                if current_title and content:\n",
    "                    filename = os.path.join(OUTPUT_DIR, sanitize_filename(current_title) + '.pdf')\n",
    "                    create_pdf(current_title, content.strip(), filename)\n",
    "                current_title = text\n",
    "                content = \"\"\n",
    "                continue\n",
    "\n",
    "        # Accumulate content under the current header\n",
    "        content += text + \"\\n\"\n",
    "\n",
    "    # Save last section\n",
    "    if current_title and content:\n",
    "        filename = os.path.join(OUTPUT_DIR, sanitize_filename(current_title) + '.pdf')\n",
    "        create_pdf(current_title, content.strip(), filename)\n",
    "\n",
    "# 🔧 Run the script\n",
    "if __name__ == \"__main__\":\n",
    "    docx_file = 'demo.docx'  # Your input Word file\n",
    "    extract_text_from_docx(docx_file)\n",
    "    print(\"✅ PDFs created successfully.\")\n"
   ]
  },
  {
   "cell_type": "code",
   "execution_count": null,
   "id": "26bdb11d-e984-4668-8f6f-8120a9dd0df2",
   "metadata": {},
   "outputs": [],
   "source": []
  }
 ],
 "metadata": {
  "kernelspec": {
   "display_name": "Python 3 (ipykernel)",
   "language": "python",
   "name": "python3"
  },
  "language_info": {
   "codemirror_mode": {
    "name": "ipython",
    "version": 3
   },
   "file_extension": ".py",
   "mimetype": "text/x-python",
   "name": "python",
   "nbconvert_exporter": "python",
   "pygments_lexer": "ipython3",
   "version": "3.10.0"
  }
 },
 "nbformat": 4,
 "nbformat_minor": 5
}
