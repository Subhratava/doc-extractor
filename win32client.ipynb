{
 "cells": [
  {
   "cell_type": "code",
   "execution_count": 12,
   "id": "b50b2b48-9360-49a3-a754-0ba3d2f0f85d",
   "metadata": {},
   "outputs": [
    {
     "name": "stdout",
     "output_type": "stream",
     "text": [
      "Exported 5 sections to: C:\\Users\\MSI\\Documents\\DOC_Extractor\\demo_split\n"
     ]
    }
   ],
   "source": [
    "import os\n",
    "import win32com.client as win32\n",
    "\n",
    "def split_word_by_heading2_and_export_pdfs(docx_path, output_dir=None):\n",
    "    # Setup output directory\n",
    "    if output_dir is None:\n",
    "        output_dir = os.path.splitext(docx_path)[0] + \"_split\"\n",
    "    os.makedirs(output_dir, exist_ok=True)\n",
    "\n",
    "    # Start Word\n",
    "    word = win32.gencache.EnsureDispatch('Word.Application')\n",
    "    word.Visible = False\n",
    "    doc = word.Documents.Open(docx_path)\n",
    "\n",
    "    paragraphs = doc.Paragraphs\n",
    "    heading_indices = []\n",
    "\n",
    "    # Step 1: Find all Heading 2 positions\n",
    "    for i in range(1, paragraphs.Count + 1):\n",
    "        para = paragraphs(i)\n",
    "        rng = para.Range\n",
    "\n",
    "        try:\n",
    "            style = rng.Style\n",
    "            style_name = style.NameLocal  # Get the name string\n",
    "        except Exception:\n",
    "            continue  # Skip paragraphs without a valid style\n",
    "\n",
    "        if style_name.startswith(\"Heading 1\"):\n",
    "            text = rng.Text.strip()\n",
    "            if text:\n",
    "                heading_indices.append((i, text))\n",
    "\n",
    "    # Add an artificial end index\n",
    "    heading_indices.append((paragraphs.Count + 1, \"END\"))\n",
    "\n",
    "    # Step 2: Loop through each Heading 2 section\n",
    "    for idx in range(len(heading_indices) - 1):\n",
    "        start_idx, title = heading_indices[idx]\n",
    "        end_idx, _ = heading_indices[idx + 1]\n",
    "\n",
    "        start_range = paragraphs(start_idx).Range.Start\n",
    "        end_range = paragraphs(end_idx - 1).Range.End\n",
    "\n",
    "        section_range = doc.Range(Start=start_range, End=end_range)\n",
    "\n",
    "        # Create a new document and copy content\n",
    "        new_doc = word.Documents.Add()\n",
    "        new_doc.Range().FormattedText = section_range.FormattedText\n",
    "\n",
    "        # Sanitize filename\n",
    "        safe_title = \"\".join(c if c.isalnum() or c in \" _-\" else \"_\" for c in title)\n",
    "        pdf_filename = f\"{idx + 1:02d}_{safe_title}.pdf\"\n",
    "        pdf_path = os.path.join(output_dir, pdf_filename)\n",
    "\n",
    "        # Export as PDF\n",
    "        new_doc.SaveAs(pdf_path, FileFormat=17)  # 17 = wdFormatPDF\n",
    "        new_doc.Close(False)\n",
    "\n",
    "    # Cleanup\n",
    "    doc.Close(False)\n",
    "    word.Quit()\n",
    "\n",
    "    print(f\"Exported {len(heading_indices)-1} sections to: {output_dir}\")\n",
    "\n",
    "# Example usage\n",
    "split_word_by_heading2_and_export_pdfs(r\"C:\\Users\\MSI\\Documents\\DOC_Extractor\\demo.docx\")\n"
   ]
  },
  {
   "cell_type": "code",
   "execution_count": null,
   "id": "63a10c8d-d513-43df-93df-e0e0cc114868",
   "metadata": {},
   "outputs": [],
   "source": [
    "docx_path = r\"C:\\Users\\MSI\\Documents\\DOC_Extractor\\demo2.docx\"\n"
   ]
  },
  {
   "cell_type": "code",
   "execution_count": null,
   "id": "8997e0eb-0f26-4e44-b9de-3a61d7f78678",
   "metadata": {},
   "outputs": [],
   "source": [
    "split_word_by_heading_and_export_pdf(docx_path)"
   ]
  },
  {
   "cell_type": "code",
   "execution_count": null,
   "id": "49fd8b03-e79f-4518-a147-b05b7b838ca6",
   "metadata": {},
   "outputs": [],
   "source": []
  }
 ],
 "metadata": {
  "kernelspec": {
   "display_name": "Python 3 (ipykernel)",
   "language": "python",
   "name": "python3"
  },
  "language_info": {
   "codemirror_mode": {
    "name": "ipython",
    "version": 3
   },
   "file_extension": ".py",
   "mimetype": "text/x-python",
   "name": "python",
   "nbconvert_exporter": "python",
   "pygments_lexer": "ipython3",
   "version": "3.10.0"
  }
 },
 "nbformat": 4,
 "nbformat_minor": 5
}
